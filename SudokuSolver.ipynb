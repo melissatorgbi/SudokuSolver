{
 "cells": [
  {
   "cell_type": "code",
   "execution_count": 1,
   "metadata": {},
   "outputs": [],
   "source": [
    "file=open(\"puzzle.txt\",\"r\")"
   ]
  },
  {
   "cell_type": "code",
   "execution_count": 2,
   "metadata": {},
   "outputs": [],
   "source": [
    "puzzle=file.read()"
   ]
  },
  {
   "cell_type": "code",
   "execution_count": 3,
   "metadata": {},
   "outputs": [
    {
     "name": "stdout",
     "output_type": "stream",
     "text": [
      "705600103001070900032001740000890061200000004510034000083700590009050600607002408\n"
     ]
    }
   ],
   "source": [
    "print(puzzle)"
   ]
  },
  {
   "cell_type": "code",
   "execution_count": 4,
   "metadata": {},
   "outputs": [],
   "source": [
    "import numpy as np"
   ]
  },
  {
   "cell_type": "code",
   "execution_count": 76,
   "metadata": {
    "scrolled": true
   },
   "outputs": [],
   "source": [
    "def printPuzzle(stringPuzzle):\n",
    "    puzzle=np.zeros((9,9))\n",
    "    for i in range(9):\n",
    "        for j in range(9):\n",
    "            puzzle[i][j]=stringPuzzle[i*9+j]\n",
    "\n",
    "    puzzle=puzzle.astype(int)\n",
    "    print(puzzle)"
   ]
  },
  {
   "cell_type": "code",
   "execution_count": 77,
   "metadata": {},
   "outputs": [
    {
     "name": "stdout",
     "output_type": "stream",
     "text": [
      "[[7 0 5 6 0 0 1 0 3]\n",
      " [0 0 1 0 7 0 9 0 0]\n",
      " [0 3 2 0 0 1 7 4 0]\n",
      " [0 0 0 8 9 0 0 6 1]\n",
      " [2 0 0 0 0 0 0 0 4]\n",
      " [5 1 0 0 3 4 0 0 0]\n",
      " [0 8 3 7 0 0 5 9 0]\n",
      " [0 0 9 0 5 0 6 0 0]\n",
      " [6 0 7 0 0 2 4 0 8]]\n"
     ]
    }
   ],
   "source": [
    "printPuzzle(puzzle)"
   ]
  },
  {
   "cell_type": "code",
   "execution_count": 6,
   "metadata": {},
   "outputs": [],
   "source": [
    "#Initial set up for specific puzzle\n",
    "def setup(puzzle):\n",
    "    exactcover=np.zeros((729,324))\n",
    "    exactcover=exactcover.astype(int)\n",
    "\n",
    "    for i in range (81):\n",
    "        for j in range (9):\n",
    "            exactcover[j+i*9][i]=1\n",
    "\n",
    "    for n in range (9): \n",
    "        for m in range (9):\n",
    "            for k in range (9):  \n",
    "                exactcover[k+m*9+81*n][81+k+9*n]=1\n",
    "                exactcover[k+m*9+81*n][162+k+9*m]=1\n",
    "\n",
    "    for p in range (3):\n",
    "        for q in range (3):\n",
    "            for n in range (3):\n",
    "                for m in range (3):\n",
    "                    for k in range (9):  \n",
    "                        exactcover[k+m*9+27*n+81*q+243*p][243+k+9*n+27*p]=1\n",
    "\n",
    "    for k in range (9):\n",
    "        for j in range (9):\n",
    "            m=int(puzzle[k][j])\n",
    "            if m>0:\n",
    "                row=k*81+j*9+m-1\n",
    "                for i in range (324):\n",
    "                    if exactcover[row][i]==1:\n",
    "                        for j in range (729):\n",
    "                            if exactcover[j][i]==1 and j!=row:\n",
    "                                exactcover[j]=0\n",
    "    return exactcover"
   ]
  },
  {
   "cell_type": "code",
   "execution_count": 7,
   "metadata": {},
   "outputs": [],
   "source": [
    "def showMatrix(matrix):\n",
    "    f=open(\"exactcover.txt\",\"w+\")\n",
    "    for i in range(729):\n",
    "        for j in range(324):\n",
    "            test=np.array2string(matrix[i][j])\n",
    "            f.write(test)\n",
    "        f.write(\"\\n\")"
   ]
  },
  {
   "cell_type": "code",
   "execution_count": 9,
   "metadata": {},
   "outputs": [],
   "source": [
    "#exactcover=setup(original)"
   ]
  },
  {
   "cell_type": "code",
   "execution_count": 11,
   "metadata": {},
   "outputs": [],
   "source": [
    "#showMatrix(exactcover)"
   ]
  },
  {
   "cell_type": "code",
   "execution_count": 8,
   "metadata": {},
   "outputs": [],
   "source": [
    "def selectRow(problem):\n",
    "    minOnesCount=list()\n",
    "    for i in range (np.shape(problem)[1]):\n",
    "        currentOnes=np.sum(problem[:,i])\n",
    "        minOnesCount.append(currentOnes)\n",
    "    column=minOnesCount.index(min(minOnesCount))\n",
    "    for j in range (np.shape(problem)[0]):\n",
    "        if problem[j,column]==1:\n",
    "            return j\n",
    "    return \"null\""
   ]
  },
  {
   "cell_type": "code",
   "execution_count": 9,
   "metadata": {},
   "outputs": [],
   "source": [
    "def editProblem(row, newProblem):\n",
    "    deleteRows=list()\n",
    "    deleteColumns=list()\n",
    "    for i in range (np.shape(newProblem)[1]):\n",
    "        if newProblem[row][i]==1:\n",
    "            deleteColumns.append(i)\n",
    "            for j in range (np.shape(newProblem)[0]):\n",
    "                if newProblem[j][i]==1:\n",
    "                    deleteRows.append(j)\n",
    "    for n in deleteRows:\n",
    "        newProblem[n,:]=0\n",
    "    for m in reversed(deleteColumns):\n",
    "        newProblem=np.delete(newProblem, m, 1)\n",
    "    return newProblem"
   ]
  },
  {
   "cell_type": "code",
   "execution_count": 10,
   "metadata": {},
   "outputs": [],
   "source": [
    "def resetProblem(Problem, previouslySelected):\n",
    "    for i in previouslySelected:\n",
    "        Problem[i,:]=0\n",
    "    return Problem"
   ]
  },
  {
   "cell_type": "code",
   "execution_count": 72,
   "metadata": {},
   "outputs": [],
   "source": [
    "def solving(problem, exactcover, state=\"start\", previouslySelected=list(), selectedRows=list(), solution = list()):\n",
    "    \n",
    "    if (state==\"start\" or state==\"retry\"):\n",
    "        for i in range (np.shape(exactcover)[1]):\n",
    "            if np.max(exactcover[:,i])==0:\n",
    "                state=\"impossible\"\n",
    "    \n",
    "    if state==\"impossible\":\n",
    "        return \"impossible\"\n",
    "    \n",
    "    row=selectRow(exactcover)\n",
    "    \n",
    "    if (state==\"start\" or state==\"retry\"): \n",
    "        previouslySelected.append(row)\n",
    "    \n",
    "    workingExactcover=editProblem(row,exactcover)   \n",
    "    selectedRows.append(row)\n",
    "    \n",
    "    if np.size(workingExactcover)==0:\n",
    "        state=\"done\"\n",
    "    else:\n",
    "        state=\"continue\"\n",
    "    \n",
    "    for i in range (np.shape(workingExactcover)[1]):\n",
    "        if np.max(workingExactcover[:,i])==0:\n",
    "            state=\"retry\"\n",
    "    \n",
    "    if state==\"retry\":\n",
    "        selectedRows=list() \n",
    "        workingExactcover=resetProblem(setup(problem), previouslySelected)\n",
    "        retryResult=solving(problem, workingExactcover, state, previouslySelected, selectedRows)\n",
    "        if retryResult==\"impossible\":\n",
    "            return \"impossible\"\n",
    "        \n",
    "    if state==\"continue\":\n",
    "        solving(problem, workingExactcover, state, previouslySelected, selectedRows)\n",
    "    \n",
    "    \n",
    "    if state==\"done\":\n",
    "        selectedRows.sort()\n",
    "        for x in selectedRows:\n",
    "            solution.append(x%9+1)\n",
    "        \n",
    "    return solution"
   ]
  },
  {
   "cell_type": "code",
   "execution_count": 79,
   "metadata": {},
   "outputs": [
    {
     "name": "stdout",
     "output_type": "stream",
     "text": [
      "[[7 4 5 6 2 9 1 8 3]\n",
      " [8 6 1 4 7 3 9 2 5]\n",
      " [9 3 2 5 8 1 7 4 6]\n",
      " [3 7 4 8 9 5 2 6 1]\n",
      " [2 9 8 1 6 7 3 5 4]\n",
      " [5 1 6 2 3 4 8 7 9]\n",
      " [1 8 3 7 4 6 5 9 2]\n",
      " [4 2 9 3 5 8 6 1 7]\n",
      " [6 5 7 9 1 2 4 3 8]]\n"
     ]
    }
   ],
   "source": [
    "initialExactcover=setup(original)\n",
    "solution=solving(original, initialExactcover)\n",
    "printPuzzle(solution)"
   ]
  }
 ],
 "metadata": {
  "kernelspec": {
   "display_name": "Python 3 (ipykernel)",
   "language": "python",
   "name": "python3"
  },
  "language_info": {
   "codemirror_mode": {
    "name": "ipython",
    "version": 3
   },
   "file_extension": ".py",
   "mimetype": "text/x-python",
   "name": "python",
   "nbconvert_exporter": "python",
   "pygments_lexer": "ipython3",
   "version": "3.9.7"
  }
 },
 "nbformat": 4,
 "nbformat_minor": 2
}
