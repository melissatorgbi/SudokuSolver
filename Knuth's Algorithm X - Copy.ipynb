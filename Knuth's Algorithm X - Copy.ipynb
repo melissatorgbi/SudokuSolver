{
 "cells": [
  {
   "cell_type": "code",
   "execution_count": 1,
   "id": "599a1122",
   "metadata": {},
   "outputs": [],
   "source": [
    "import numpy as np"
   ]
  },
  {
   "cell_type": "code",
   "execution_count": 2,
   "id": "d502957c",
   "metadata": {},
   "outputs": [],
   "source": [
    "def getMax (problem):\n",
    "    maxnum=0\n",
    "    for i in problem:\n",
    "        for j in problem[i]:\n",
    "            if j>maxnum:\n",
    "                maxnum=j\n",
    "    return maxnum"
   ]
  },
  {
   "cell_type": "code",
   "execution_count": 3,
   "id": "33b84dd2",
   "metadata": {},
   "outputs": [],
   "source": [
    "def setupProblem (problem):\n",
    "    labels=list()\n",
    "    for i in problem.keys():\n",
    "        labels.append(i)\n",
    "    exactcover=np.zeros((len(problem),(getMax(problem))))\n",
    "    for i in range (len(labels)):\n",
    "        for j in problem[labels[i]]:\n",
    "            if j != 0:\n",
    "                exactcover[i][j-1]=1\n",
    "    return exactcover\n",
    "\n",
    "            "
   ]
  },
  {
   "cell_type": "code",
   "execution_count": 4,
   "id": "7bb7fdcf",
   "metadata": {},
   "outputs": [],
   "source": [
    "def selectRow(problem):\n",
    "    minOnesCount=list()\n",
    "    for i in range (np.shape(problem)[1]):\n",
    "        currentOnes=np.sum(problem[:,i])\n",
    "        minOnesCount.append(currentOnes)\n",
    "    column=minOnesCount.index(min(minOnesCount))\n",
    "    for j in range (np.shape(problem)[0]):\n",
    "        if problem[j,column]==1:\n",
    "            return j\n",
    "    return \"null\""
   ]
  },
  {
   "cell_type": "code",
   "execution_count": 5,
   "id": "5d7202c8",
   "metadata": {},
   "outputs": [],
   "source": [
    "def editProblem(row, newProblem):\n",
    "    deleteRows=list()\n",
    "    deleteColumns=list()\n",
    "    for i in range (np.shape(newProblem)[1]):\n",
    "        if newProblem[row][i]==1:\n",
    "            deleteColumns.append(i)\n",
    "            for j in range (np.shape(newProblem)[0]):\n",
    "                if newProblem[j][i]==1:\n",
    "                    deleteRows.append(j)\n",
    "    for n in deleteRows:\n",
    "        newProblem[n,:]=0\n",
    "    for m in reversed(deleteColumns):\n",
    "        newProblem=np.delete(newProblem, m, 1)\n",
    "    return newProblem"
   ]
  },
  {
   "cell_type": "code",
   "execution_count": 6,
   "id": "aac80acc",
   "metadata": {},
   "outputs": [],
   "source": [
    "def resetProblem(Problem, previouslySelected):\n",
    "    for i in previouslySelected:\n",
    "        Problem[i,:]=0\n",
    "    return Problem"
   ]
  },
  {
   "cell_type": "code",
   "execution_count": 7,
   "id": "abcb3079",
   "metadata": {},
   "outputs": [],
   "source": [
    "def solving(problem, exactcover, state, previouslySelected, selectedRows):\n",
    "    \n",
    "    if (state==\"start\" or state==\"retry\"):\n",
    "        for i in range (np.shape(exactcover)[1]):\n",
    "            if np.max(exactcover[:,i])==0:\n",
    "                state=\"impossible\"\n",
    "    \n",
    "    if state==\"impossible\":\n",
    "        return \"impossible\"\n",
    "    \n",
    "    row=selectRow(exactcover)\n",
    "    \n",
    "    if (state==\"start\" or state==\"retry\"): \n",
    "        previouslySelected.append(row)\n",
    "    \n",
    "    workingExactcover=editProblem(row,exactcover)   \n",
    "    selectedRows.append((list(problem.keys()))[row])\n",
    "    \n",
    "    if np.size(workingExactcover)==0:\n",
    "        state=\"done\"\n",
    "    else:\n",
    "        state=\"continue\"\n",
    "    \n",
    "    for i in range (np.shape(workingExactcover)[1]):\n",
    "        if np.max(workingExactcover[:,i])==0:\n",
    "            state=\"retry\"\n",
    "    \n",
    "    if state==\"retry\":\n",
    "        selectedRows=list() \n",
    "        workingExactcover=resetProblem(setupProblem(problem), previouslySelected)\n",
    "        retryResult=solving(problem, workingExactcover, state, previouslySelected, selectedRows)\n",
    "        if retryResult==\"impossible\":\n",
    "            return \"impossible\"\n",
    "        \n",
    "    if state==\"continue\":\n",
    "        solving(problem, workingExactcover, state, previouslySelected, selectedRows)\n",
    "        \n",
    "    return selectedRows"
   ]
  },
  {
   "cell_type": "code",
   "execution_count": 8,
   "id": "1ae23482",
   "metadata": {},
   "outputs": [],
   "source": [
    "problem={'A': [1, 4, 7],\n",
    "         'B': [1, 4],\n",
    "         'C': [4, 5, 7],\n",
    "         'D': [3, 5, 6],\n",
    "         'E': [2, 3, 6, 7],\n",
    "         'F': [2, 7] \n",
    "}"
   ]
  },
  {
   "cell_type": "code",
   "execution_count": 9,
   "id": "9d3b8795",
   "metadata": {},
   "outputs": [
    {
     "name": "stdout",
     "output_type": "stream",
     "text": [
      "solution is ['B', 'D', 'F']\n"
     ]
    }
   ],
   "source": [
    "selectedRows=list()\n",
    "previouslySelected=list()\n",
    "initialExactcover=setupProblem(problem)\n",
    "solution=solving(problem, initialExactcover, \"start\", previouslySelected, selectedRows)\n",
    "print(\"solution is\", solution)"
   ]
  },
  {
   "cell_type": "code",
   "execution_count": 10,
   "id": "90a20598",
   "metadata": {},
   "outputs": [],
   "source": [
    "problem2={'A': [1, 7],\n",
    "         'B': [1, 4],\n",
    "         'D': [3, 5, 6],\n",
    "         'E': [2, 3, 6, 7],\n",
    "         'F': [2, 7] \n",
    "}"
   ]
  },
  {
   "cell_type": "code",
   "execution_count": 11,
   "id": "d39bef0b",
   "metadata": {},
   "outputs": [
    {
     "name": "stdout",
     "output_type": "stream",
     "text": [
      "solution is ['B', 'D', 'F']\n"
     ]
    }
   ],
   "source": [
    "selectedRows=list()\n",
    "previouslySelected=list()\n",
    "initialExactcover=setupProblem(problem2)\n",
    "solution=solving(problem2, initialExactcover, \"start\", previouslySelected, selectedRows)\n",
    "print(\"solution is\", solution)"
   ]
  },
  {
   "cell_type": "code",
   "execution_count": 12,
   "id": "18be4c1b",
   "metadata": {},
   "outputs": [],
   "source": [
    "problem3={'A': [1, 4, 7],\n",
    "         'B': [1, 4],\n",
    "         'C': [4, 5, 7],\n",
    "         'D': [3, 5, 6],\n",
    "         'E': [2, 3, 6, 7] \n",
    "}"
   ]
  },
  {
   "cell_type": "code",
   "execution_count": 13,
   "id": "bfa82982",
   "metadata": {},
   "outputs": [
    {
     "name": "stdout",
     "output_type": "stream",
     "text": [
      "solution is impossible\n"
     ]
    }
   ],
   "source": [
    "selectedRows=list()\n",
    "previouslySelected=list()\n",
    "initialExactcover=setupProblem(problem3)\n",
    "solution=solving(problem3, initialExactcover, \"start\", previouslySelected, selectedRows)\n",
    "print(\"solution is\", solution)"
   ]
  },
  {
   "cell_type": "code",
   "execution_count": 14,
   "id": "2f6ef9ee",
   "metadata": {},
   "outputs": [],
   "source": [
    "problem4={'A': [4, 7],\n",
    "         'B': [4],\n",
    "         'C': [4, 5, 7],\n",
    "         'D': [3, 5, 6],\n",
    "         'E': [2, 3, 6, 7],\n",
    "         'F': [2, 7] \n",
    "}"
   ]
  },
  {
   "cell_type": "code",
   "execution_count": 15,
   "id": "7af3ccc7",
   "metadata": {},
   "outputs": [
    {
     "name": "stdout",
     "output_type": "stream",
     "text": [
      "solution is impossible\n"
     ]
    }
   ],
   "source": [
    "selectedRows=list()\n",
    "previouslySelected=list()\n",
    "initialExactcover=setupProblem(problem4)\n",
    "solution=solving(problem4, initialExactcover, \"start\", previouslySelected, selectedRows)\n",
    "print(\"solution is\", solution)"
   ]
  }
 ],
 "metadata": {
  "kernelspec": {
   "display_name": "Python 3",
   "language": "python",
   "name": "python3"
  },
  "language_info": {
   "codemirror_mode": {
    "name": "ipython",
    "version": 3
   },
   "file_extension": ".py",
   "mimetype": "text/x-python",
   "name": "python",
   "nbconvert_exporter": "python",
   "pygments_lexer": "ipython3",
   "version": "3.9.4"
  }
 },
 "nbformat": 4,
 "nbformat_minor": 5
}
