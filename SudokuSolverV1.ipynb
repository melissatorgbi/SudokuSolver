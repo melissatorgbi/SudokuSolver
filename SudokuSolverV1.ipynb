{
 "cells": [
  {
   "cell_type": "code",
   "execution_count": 1,
   "metadata": {},
   "outputs": [],
   "source": [
    "file=open(\"puzzle.txt\",\"r\")"
   ]
  },
  {
   "cell_type": "code",
   "execution_count": 2,
   "metadata": {},
   "outputs": [],
   "source": [
    "puzzle=file.read()"
   ]
  },
  {
   "cell_type": "code",
   "execution_count": 3,
   "metadata": {},
   "outputs": [
    {
     "name": "stdout",
     "output_type": "stream",
     "text": [
      "705600103001070900032001740000890061200000004510034000083700590009050600607002408\n"
     ]
    }
   ],
   "source": [
    "print(puzzle)"
   ]
  },
  {
   "cell_type": "code",
   "execution_count": 4,
   "metadata": {},
   "outputs": [],
   "source": [
    "import numpy as np"
   ]
  },
  {
   "cell_type": "code",
   "execution_count": 5,
   "metadata": {},
   "outputs": [
    {
     "name": "stdout",
     "output_type": "stream",
     "text": [
      "[[7 0 5 6 0 0 1 0 3]\n",
      " [0 0 1 0 7 0 9 0 0]\n",
      " [0 3 2 0 0 1 7 4 0]\n",
      " [0 0 0 8 9 0 0 6 1]\n",
      " [2 0 0 0 0 0 0 0 4]\n",
      " [5 1 0 0 3 4 0 0 0]\n",
      " [0 8 3 7 0 0 5 9 0]\n",
      " [0 0 9 0 5 0 6 0 0]\n",
      " [6 0 7 0 0 2 4 0 8]]\n"
     ]
    }
   ],
   "source": [
    "original=np.zeros((9,9))\n",
    "for i in range(9):\n",
    "    for j in range(9):\n",
    "        original[i][j]=puzzle[i*9+j]\n",
    "        \n",
    "original=original.astype(int)\n",
    "print(original)"
   ]
  },
  {
   "cell_type": "code",
   "execution_count": 6,
   "metadata": {},
   "outputs": [],
   "source": [
    "def selectRow(row,matrix):\n",
    "    for i in range (324):\n",
    "    #for i in range (81):\n",
    "        if matrix[row][i]==1:\n",
    "            for j in range (729):\n",
    "                if matrix[j][i]==1 and j!=row:\n",
    "                    matrix[j]=0\n",
    "    return matrix\n",
    "#for k in range (9): for j in range (9): m=int(original[k][j]) if m>0: exactcover[:,j+9k]=0 exactcover[k80+j9+m-1][j+9k]=1"
   ]
  },
  {
   "cell_type": "code",
   "execution_count": 7,
   "metadata": {},
   "outputs": [],
   "source": [
    "def showMatrix(matrix):\n",
    "    f=open(\"exactcover.txt\",\"w+\")\n",
    "    for i in range(729):\n",
    "        for j in range(324):\n",
    "            test=np.array2string(matrix[i][j])\n",
    "            f.write(test)\n",
    "        f.write(\"\\n\")"
   ]
  },
  {
   "cell_type": "code",
   "execution_count": 8,
   "metadata": {},
   "outputs": [],
   "source": [
    "def showPuzzle(ones,matrix):\n",
    "    puzzle=np.zeros((9,9))\n",
    "    for i in range (81):\n",
    "        if ones[i]==1:\n",
    "            for j in range (729):\n",
    "                if matrix[j][i]==1:\n",
    "                    puzzleRow=int(j/81)\n",
    "                    puzzleColumn=i%9\n",
    "                    num=(j%9+1)\n",
    "                    puzzle[puzzleRow][puzzleColumn]=num\n",
    "    return puzzle\n",
    "                    #print(num)\n",
    "                "
   ]
  },
  {
   "cell_type": "code",
   "execution_count": 9,
   "metadata": {},
   "outputs": [],
   "source": [
    "def ones(matrix):\n",
    "    ones=np.zeros(324)\n",
    "    for a in range (324):\n",
    "        count=0\n",
    "        for b in range (729):\n",
    "            if matrix[b][a]==1:\n",
    "                count+=1\n",
    "        ones[a]=count\n",
    "    return ones"
   ]
  },
  {
   "cell_type": "code",
   "execution_count": 10,
   "metadata": {},
   "outputs": [],
   "source": [
    "#Initial set up for specific puzzle\n",
    "def setup(puzzle):\n",
    "    exactcover=np.zeros((729,324))\n",
    "    exactcover=exactcover.astype(int)\n",
    "\n",
    "    for i in range (81):\n",
    "        for j in range (9):\n",
    "            exactcover[j+i*9][i]=1\n",
    "\n",
    "    for n in range (9): \n",
    "        for m in range (9):\n",
    "            for k in range (9):  \n",
    "                exactcover[k+m*9+81*n][81+k+9*n]=1\n",
    "                exactcover[k+m*9+81*n][162+k+9*m]=1\n",
    "\n",
    "    for p in range (3):\n",
    "        for q in range (3):\n",
    "            for n in range (3):\n",
    "                for m in range (3):\n",
    "                    for k in range (9):  \n",
    "                        exactcover[k+m*9+27*n+81*q+243*p][243+k+9*n+27*p]=1\n",
    "\n",
    "    for k in range (9):\n",
    "        for j in range (9):\n",
    "            m=int(puzzle[k][j])\n",
    "            if m>0:\n",
    "                row=k*81+j*9+m-1\n",
    "                exactcover=selectRow(row,exactcover)\n",
    "    return exactcover"
   ]
  },
  {
   "cell_type": "code",
   "execution_count": 11,
   "metadata": {},
   "outputs": [],
   "source": [
    "exactcover=setup(original)"
   ]
  },
  {
   "cell_type": "code",
   "execution_count": 12,
   "metadata": {},
   "outputs": [],
   "source": [
    "showMatrix(exactcover)"
   ]
  },
  {
   "cell_type": "code",
   "execution_count": 14,
   "metadata": {},
   "outputs": [],
   "source": [
    "initialone=ones(exactcover)\n",
    "#print(initialone)"
   ]
  },
  {
   "cell_type": "code",
   "execution_count": 15,
   "metadata": {},
   "outputs": [],
   "source": [
    "working=showPuzzle(initialone, exactcover)\n",
    "#print(working)"
   ]
  },
  {
   "cell_type": "code",
   "execution_count": 16,
   "metadata": {},
   "outputs": [],
   "source": [
    "#experiment\n",
    "def update(columncount, matrix, count, trial):\n",
    "    originalmatrix=matrix\n",
    "    newone=np.zeros(324)\n",
    "    for a in range (324):\n",
    "        if columncount[a]==count:\n",
    "            for b in range (729):\n",
    "                if trial==1:\n",
    "                    if matrix[b][a]==1:\n",
    "                        selectRow(b,matrix)\n",
    "                elif trial==2:\n",
    "                    for c in range (b,729):\n",
    "                        selectRow(c,matrix)\n",
    "                if count>1:\n",
    "                    count=1\n",
    "    \n",
    "    previousone=newone                   \n",
    "    newone=ones(matrix)\n",
    "    if np.all(newone)==0:\n",
    "        print(\"fail\")\n",
    "        return newone\n",
    "        if trial==2:\n",
    "            return \"abort\"\n",
    "        #print(newone)\n",
    "        newone=update(previousone,matrix,2,2)\n",
    "        #return newone\n",
    "    check=1\n",
    "    change=columncount[0:80]-newone[0:80]\n",
    "    checkones=np.ones(80)\n",
    "    finished=newone[0:80]-checkones\n",
    "    if np.any(change):\n",
    "        print(\"change\")\n",
    "        check=1\n",
    "        newone=update(newone,matrix,check,1)\n",
    "    elif not(np.any(finished)):\n",
    "        print(\"done\")\n",
    "    else:\n",
    "        check+=1\n",
    "        if check>9:\n",
    "            return \"abort\"\n",
    "        update(newone,matrix,check,1)\n",
    "    #print(\"check=\"+str(check))\n",
    "    #print (newone)\n",
    "    return newone   "
   ]
  },
  {
   "cell_type": "code",
   "execution_count": 17,
   "metadata": {},
   "outputs": [
    {
     "name": "stdout",
     "output_type": "stream",
     "text": [
      "change\n",
      "change\n",
      "done\n"
     ]
    }
   ],
   "source": [
    "testone=update(initialone,exactcover, 1,1)\n",
    "#testone"
   ]
  },
  {
   "cell_type": "code",
   "execution_count": 18,
   "metadata": {},
   "outputs": [
    {
     "name": "stdout",
     "output_type": "stream",
     "text": [
      "[[7. 4. 5. 6. 2. 9. 1. 8. 3.]\n",
      " [8. 6. 1. 4. 7. 3. 9. 2. 5.]\n",
      " [9. 3. 2. 5. 8. 1. 7. 4. 6.]\n",
      " [3. 7. 4. 8. 9. 5. 2. 6. 1.]\n",
      " [2. 9. 8. 1. 6. 7. 3. 5. 4.]\n",
      " [5. 1. 6. 2. 3. 4. 8. 7. 9.]\n",
      " [1. 8. 3. 7. 4. 6. 5. 9. 2.]\n",
      " [4. 2. 9. 3. 5. 8. 6. 1. 7.]\n",
      " [6. 5. 7. 9. 1. 2. 4. 3. 8.]]\n"
     ]
    }
   ],
   "source": [
    "working=showPuzzle(testone, exactcover)\n",
    "print(working)"
   ]
  },
  {
   "cell_type": "code",
   "execution_count": null,
   "metadata": {},
   "outputs": [],
   "source": []
  }
 ],
 "metadata": {
  "kernelspec": {
   "display_name": "Python 3",
   "language": "python",
   "name": "python3"
  },
  "language_info": {
   "codemirror_mode": {
    "name": "ipython",
    "version": 3
   },
   "file_extension": ".py",
   "mimetype": "text/x-python",
   "name": "python",
   "nbconvert_exporter": "python",
   "pygments_lexer": "ipython3",
   "version": "3.9.4"
  }
 },
 "nbformat": 4,
 "nbformat_minor": 2
}
